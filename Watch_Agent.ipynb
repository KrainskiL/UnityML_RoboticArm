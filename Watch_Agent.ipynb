{
 "cells": [
  {
   "cell_type": "markdown",
   "metadata": {},
   "source": [
    "# Running agent on pretrained weights"
   ]
  },
  {
   "cell_type": "code",
   "execution_count": 1,
   "metadata": {},
   "outputs": [],
   "source": [
    "from unityagents import UnityEnvironment\n",
    "from collections import deque\n",
    "from ddpg_agent import Agent\n",
    "import torch\n",
    "import numpy as np"
   ]
  },
  {
   "cell_type": "markdown",
   "metadata": {},
   "source": [
    "Load environment"
   ]
  },
  {
   "cell_type": "code",
   "execution_count": 2,
   "metadata": {},
   "outputs": [
    {
     "name": "stderr",
     "output_type": "stream",
     "text": [
      "INFO:unityagents:\n",
      "'Academy' started successfully!\n",
      "Unity Academy name: Academy\n",
      "        Number of Brains: 1\n",
      "        Number of External Brains : 1\n",
      "        Lesson number : 0\n",
      "        Reset Parameters :\n",
      "\t\tgoal_speed -> 1.0\n",
      "\t\tgoal_size -> 5.0\n",
      "Unity brain name: ReacherBrain\n",
      "        Number of Visual Observations (per agent): 0\n",
      "        Vector Observation space type: continuous\n",
      "        Vector Observation space size (per agent): 33\n",
      "        Number of stacked Vector Observation: 1\n",
      "        Vector Action space type: continuous\n",
      "        Vector Action space size (per agent): 4\n",
      "        Vector Action descriptions: , , , \n"
     ]
    }
   ],
   "source": [
    "env = UnityEnvironment(file_name=\"./Reacher_Windows_x86_64/Reacher.exe\")"
   ]
  },
  {
   "cell_type": "code",
   "execution_count": 3,
   "metadata": {},
   "outputs": [],
   "source": [
    "# get the default brain\n",
    "brain_name = env.brain_names[0]\n",
    "brain = env.brains[brain_name]"
   ]
  },
  {
   "cell_type": "markdown",
   "metadata": {},
   "source": [
    "Initialize agent and necessary variables"
   ]
  },
  {
   "cell_type": "code",
   "execution_count": 4,
   "metadata": {},
   "outputs": [],
   "source": [
    "params = {\n",
    "\"BUFFER_SIZE\":int(1e5),  # replay buffer size\n",
    "\"BATCH_SIZE\":128,       # minibatch size\n",
    "\"GAMMA\":0.99,            # discount factor\n",
    "\"TAU\":1e-3,              # for soft update of target parameters\n",
    "\"LR_ACTOR\":0.0001,         # learning rate of the actor \n",
    "\"LR_CRITIC\":0.0001,        # learning rate of the critic\n",
    "\"WEIGHT_DECAY\":0.0001   # L2 weight decay\n",
    "}\n",
    "\n",
    "agent = Agent(n = 20, state_size=33, action_size=4, random_seed=42, params=params)\n",
    "# Load the weights from file\n",
    "agent.actor_local.load_state_dict(torch.load('actor.pth'))\n",
    "agent.critic_local.load_state_dict(torch.load('critic.pth'))\n",
    "agent.actor_target.load_state_dict(torch.load('actor.pth'))\n",
    "agent.critic_target.load_state_dict(torch.load('critic.pth'))\n",
    "score = [] \n",
    "env_info = env.reset(train_mode=False)[brain_name]\n",
    "states = env_info.vector_observations"
   ]
  },
  {
   "cell_type": "markdown",
   "metadata": {},
   "source": [
    "Let the agent do it's job"
   ]
  },
  {
   "cell_type": "code",
   "execution_count": 5,
   "metadata": {},
   "outputs": [
    {
     "name": "stdout",
     "output_type": "stream",
     "text": [
      "Score: 0.03694105811536193\n"
     ]
    }
   ],
   "source": [
    "while True:\n",
    "    actions = agent.act(states)\n",
    "    env_info = env.step(actions)[brain_name]            # send all actions to tne environment\n",
    "    next_states = env_info.vector_observations          # get next states\n",
    "    rewards = env_info.rewards                       # get reward\n",
    "    dones = env_info.local_done                         # see if episode finished\n",
    "    agent.step(states, actions, rewards, next_states, dones)\n",
    "    states = next_states\n",
    "    score += rewards                           # update the score \n",
    "    if np.any(dones):\n",
    "        break \n",
    "\n",
    "print(\"Score: {}\".format(np.mean(score)))"
   ]
  },
  {
   "cell_type": "code",
   "execution_count": 6,
   "metadata": {},
   "outputs": [],
   "source": [
    "env.close()"
   ]
  }
 ],
 "metadata": {
  "kernelspec": {
   "display_name": "drlnd",
   "language": "python",
   "name": "drlnd"
  },
  "language_info": {
   "codemirror_mode": {
    "name": "ipython",
    "version": 3
   },
   "file_extension": ".py",
   "mimetype": "text/x-python",
   "name": "python",
   "nbconvert_exporter": "python",
   "pygments_lexer": "ipython3",
   "version": "3.6.10"
  },
  "toc": {
   "base_numbering": 1,
   "nav_menu": {},
   "number_sections": true,
   "sideBar": true,
   "skip_h1_title": false,
   "title_cell": "Table of Contents",
   "title_sidebar": "Contents",
   "toc_cell": false,
   "toc_position": {},
   "toc_section_display": true,
   "toc_window_display": false
  }
 },
 "nbformat": 4,
 "nbformat_minor": 4
}
